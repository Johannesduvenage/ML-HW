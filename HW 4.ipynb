{
 "cells": [
  {
   "cell_type": "markdown",
   "metadata": {},
   "source": [
    "# ML HW4\n",
    "### 106598018 萬俊瑋"
   ]
  },
  {
   "cell_type": "markdown",
   "metadata": {},
   "source": [
    "**1. In the SOFM network, the learning rate is a function of time and distance between the current node and the BMU. If η0 = σ0 = 0.1, λ = 10, find the number of required iteration such that the learning rate of nodes next to BMU is less than 0.001. A node is next to BMU is located at (x0 ± 1, y0) or (x0, y0 ±1) where (x0, y0) as the coordinate of the BMU.**"
   ]
  },
  {
   "cell_type": "code",
   "execution_count": 1,
   "metadata": {},
   "outputs": [
    {
     "name": "stdout",
     "output_type": "stream",
     "text": [
      "Iteration:1 3.318986956663983e-28\n"
     ]
    }
   ],
   "source": [
    "import numpy as np\n",
    "\n",
    "learningRate = 1\n",
    "t = 1\n",
    "while learningRate >= 0.001:\n",
    "    learningRate = 0.1*np.exp(t/10)*np.exp(-1/(2*(0.1*np.exp(-t/10))**2))\n",
    "    t += 1\n",
    "print('Iteration:' + str(t - 1), learningRate)"
   ]
  },
  {
   "cell_type": "markdown",
   "metadata": {},
   "source": [
    "**2. We mentioned that the parameter α in GMM was computed based on the Lagrange multipliers. Show that αj = (1/n)∑βj(xi) as given in the PPT notes.**"
   ]
  },
  {
   "cell_type": "markdown",
   "metadata": {},
   "source": [
    "[http://www.cs.nccu.edu.tw/~whliao/acv2008/08gmm.pdf](http://www.cs.nccu.edu.tw/~whliao/acv2008/08gmm.pdf)"
   ]
  },
  {
   "cell_type": "markdown",
   "metadata": {},
   "source": [
    "**3. We have analytically solved the following problem: Maximize f(x, y) = x + y subject to x2 + y2 = 1. Write a gradient descent program to find the solution numerically. Note that to find the maximum point, you need to follow the gradient (instead of negative gradient). Compare your numerical results with analytical results.**"
   ]
  },
  {
   "cell_type": "code",
   "execution_count": 2,
   "metadata": {},
   "outputs": [
    {
     "name": "stdout",
     "output_type": "stream",
     "text": [
      "epoch: 89 The max number of f(x, y) = x + y subject to x^2 + y^2 = 1: 1.414213389027282\n"
     ]
    }
   ],
   "source": [
    "import random\n",
    "\n",
    "def numericalGradient(F, X):\n",
    "    h = 1e-6\n",
    "    G = np.zeros_like(X)\n",
    "    for i in range(X.size):\n",
    "        oriX = X[i]\n",
    "        X[i] = oriX + h\n",
    "        FXh1 = F(X)\n",
    "        X[i] = oriX - h\n",
    "        FXh2 = F(X)\n",
    "        G[i] = (FXh1 - FXh2)/(2*h)\n",
    "        X[i] = oriX\n",
    "    return G\n",
    "\n",
    "def gradientDescent(F, X, eta=0.1, maxEpoch=1000):\n",
    "    epoch = 1\n",
    "    while True:\n",
    "        G = numericalGradient(F, X)\n",
    "        X += eta*G\n",
    "        if np.sqrt(np.sum(G**2)) < 1e-6 or epoch >= maxEpoch:\n",
    "            break\n",
    "        epoch += 1\n",
    "    return X, epoch\n",
    "\n",
    "\n",
    "if __name__=='__main__':\n",
    "    def myLagrangeMutipliers(X):\n",
    "        x = X[0]\n",
    "        y = X[1]\n",
    "        # magic number of my analytical results\n",
    "        l = -1*np.sqrt(2)/2\n",
    "        return x + y + l*(x**2 + y**2 - 1)\n",
    "    \n",
    "    X = np.array([random.random(), random.random(), random.random()])\n",
    "    X, epoch = gradientDescent(myLagrangeMutipliers, X)\n",
    "    \n",
    "    print('epoch:', epoch, 'The max number of f(x, y) = x + y subject to x^2 + y^2 = 1:', X[0] + X[1])"
   ]
  },
  {
   "cell_type": "markdown",
   "metadata": {},
   "source": [
    "**4. Compute the complete update (back propagation) equations for all weights (w1 ~ w8) in the following neural networks. The activation function is sigmoid, the loss function is MSE, and the desired outputs are d1 and d2.**\n",
    "![](https://github.com/wei840222/ML-HW/blob/develop/images/NN.JPG?raw=true)"
   ]
  },
  {
   "cell_type": "code",
   "execution_count": null,
   "metadata": {},
   "outputs": [],
   "source": []
  },
  {
   "cell_type": "markdown",
   "metadata": {},
   "source": [
    "**5. Write a program to implement the neural network with your back propagation equations in problem 4. To test your network, train it to distinguish the classes of versicolor and virginica in the Iris dataset using only the third and fourth features\n",
    "(i.e., petal length and petal width) as the inputs. As usual, use 70% of the data for training and the rest for testing. Repeat the experiments 10 times to find the average accuracy. During training, set the desired output as 0.9 for in class data\n",
    "and 0.1 for out of class data. Don’t forget to use random numbers as the initial weights.**"
   ]
  },
  {
   "cell_type": "code",
   "execution_count": null,
   "metadata": {},
   "outputs": [],
   "source": []
  }
 ],
 "metadata": {
  "kernelspec": {
   "display_name": "Python 3",
   "language": "python",
   "name": "python3"
  },
  "language_info": {
   "codemirror_mode": {
    "name": "ipython",
    "version": 3
   },
   "file_extension": ".py",
   "mimetype": "text/x-python",
   "name": "python",
   "nbconvert_exporter": "python",
   "pygments_lexer": "ipython3",
   "version": "3.6.4"
  }
 },
 "nbformat": 4,
 "nbformat_minor": 2
}
