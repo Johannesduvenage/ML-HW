{
 "cells": [
  {
   "cell_type": "markdown",
   "metadata": {},
   "source": [
    "# ML HW4\n",
    "### 106598018 萬俊瑋"
   ]
  },
  {
   "cell_type": "markdown",
   "metadata": {},
   "source": [
    "**1. In the SOFM network, the learning rate is a function of time and distance between the current node and the BMU. If η0 = σ0 = 0.1, λ = 10, find the number of required iteration such that the learning rate of nodes next to BMU is less than 0.001. A node is next to BMU is located at (x0 ± 1, y0) or (x0, y0 ±1) where (x0, y0) as the coordinate of the BMU.**"
   ]
  },
  {
   "cell_type": "code",
   "execution_count": 1,
   "metadata": {},
   "outputs": [
    {
     "name": "stdout",
     "output_type": "stream",
     "text": [
      "Iteration:1 3.318986956663983e-28\n"
     ]
    }
   ],
   "source": [
    "import numpy as np\n",
    "\n",
    "learningRate = 1\n",
    "t = 1\n",
    "while learningRate >= 0.001:\n",
    "    learningRate = 0.1*np.exp(t/10)*np.exp(-1/(2*(0.1*np.exp(-t/10))**2))\n",
    "    t += 1\n",
    "print('Iteration:' + str(t - 1), learningRate)"
   ]
  },
  {
   "cell_type": "markdown",
   "metadata": {},
   "source": [
    "**2. We mentioned that the parameter α in GMM was computed based on the Lagrange multipliers. Show that αj = (1/n)∑βj(xi) as given in the PPT notes.**"
   ]
  },
  {
   "cell_type": "markdown",
   "metadata": {},
   "source": [
    "[http://www.cs.nccu.edu.tw/~whliao/acv2008/08gmm.pdf](http://www.cs.nccu.edu.tw/~whliao/acv2008/08gmm.pdf)"
   ]
  },
  {
   "cell_type": "markdown",
   "metadata": {},
   "source": [
    "**3. We have analytically solved the following problem: Maximize f(x, y) = x + y subject to x2 + y2 = 1. Write a gradient descent program to find the solution numerically. Note that to find the maximum point, you need to follow the gradient (instead of negative gradient). Compare your numerical results with analytical results.**"
   ]
  },
  {
   "cell_type": "code",
   "execution_count": 2,
   "metadata": {},
   "outputs": [
    {
     "name": "stdout",
     "output_type": "stream",
     "text": [
      "epoch: 83 The max number of f(x, y) = x + y subject to x^2 + y^2 = 1: 1.4142141999225553\n"
     ]
    }
   ],
   "source": [
    "def numericalGradient(F, X):\n",
    "    h = 1e-6\n",
    "    G = np.zeros_like(X)\n",
    "    for i in range(len(X)):\n",
    "        oriX = X[i]\n",
    "        X[i] = oriX + h\n",
    "        FXh1 = F(X)\n",
    "        X[i] = oriX - h\n",
    "        FXh2 = F(X)\n",
    "        G[i] = (FXh1 - FXh2)/(2*h)\n",
    "        X[i] = oriX\n",
    "    return G\n",
    "\n",
    "def gradientDescent(F, X, eta=0.1, maxEpoch=1000):\n",
    "    epoch = 1\n",
    "    while True:\n",
    "        G = numericalGradient(F, X)\n",
    "        X += eta*G\n",
    "        if np.sqrt(np.sum(G**2)) < 1e-6 or epoch >= maxEpoch:\n",
    "            break\n",
    "        epoch += 1\n",
    "    return X, epoch\n",
    "\n",
    "\n",
    "if __name__=='__main__':\n",
    "    def myLagrangeMutipliers(X):\n",
    "        x = X[0]\n",
    "        y = X[1]\n",
    "        # magic number of my analytical results\n",
    "        l = -1*np.sqrt(2)/2\n",
    "        return x + y + l*(x**2 + y**2 - 1)\n",
    "    \n",
    "    X = np.random.uniform(0., 1., 3)\n",
    "    X, epoch = gradientDescent(myLagrangeMutipliers, X)\n",
    "    \n",
    "    print('epoch:', epoch, 'The max number of f(x, y) = x + y subject to x^2 + y^2 = 1:', X[0] + X[1])"
   ]
  },
  {
   "cell_type": "markdown",
   "metadata": {},
   "source": [
    "**4. Compute the complete update (back propagation) equations for all weights (w1 ~ w8) in the following neural networks. The activation function is sigmoid, the loss function is MSE, and the desired outputs are d1 and d2.**\n",
    "![](https://github.com/wei840222/ML-HW/blob/develop/images/NN.JPG?raw=true)"
   ]
  },
  {
   "cell_type": "code",
   "execution_count": null,
   "metadata": {},
   "outputs": [],
   "source": []
  },
  {
   "cell_type": "markdown",
   "metadata": {},
   "source": [
    "**5. Write a program to implement the neural network with your back propagation equations in problem 4. To test your network, train it to distinguish the classes of versicolor and virginica in the Iris dataset using only the third and fourth features\n",
    "(i.e., petal length and petal width) as the inputs. As usual, use 70% of the data for training and the rest for testing. Repeat the experiments 10 times to find the average accuracy. During training, set the desired output as 0.9 for in class data\n",
    "and 0.1 for out of class data. Don’t forget to use random numbers as the initial weights.**"
   ]
  },
  {
   "cell_type": "code",
   "execution_count": 46,
   "metadata": {},
   "outputs": [
    {
     "name": "stdout",
     "output_type": "stream",
     "text": [
      "Training the model...\n",
      "Epoch 1000 | Loss: 17.509884\n",
      "Epoch 2000 | Loss: 17.459991\n",
      "Epoch 3000 | Loss: 17.349405\n",
      "Epoch 4000 | Loss: 17.131504\n",
      "Epoch 5000 | Loss: 16.77167\n",
      "Epoch 6000 | Loss: 16.062912\n",
      "Epoch 7000 | Loss: 14.760425\n",
      "Epoch 8000 | Loss: 12.858537\n",
      "Epoch 9000 | Loss: 10.76372\n",
      "Epoch 10000 | Loss: 8.917167\n",
      "\n",
      "Testing...\n",
      "Actual: [1. 0.] Predicted: [1. 0.]\n",
      "Actual: [1. 0.] Predicted: [1. 0.]\n",
      "Actual: [1. 0.] Predicted: [1. 0.]\n",
      "Actual: [1. 0.] Predicted: [1. 0.]\n",
      "Actual: [1. 0.] Predicted: [1. 0.]\n",
      "Actual: [0. 1.] Predicted: [0. 1.]\n",
      "Actual: [0. 1.] Predicted: [0. 1.]\n",
      "Actual: [1. 0.] Predicted: [1. 0.]\n",
      "Actual: [1. 0.] Predicted: [1. 0.]\n",
      "Actual: [0. 1.] Predicted: [0. 1.]\n",
      "Actual: [0. 1.] Predicted: [0. 1.]\n",
      "Actual: [0. 1.] Predicted: [0. 1.]\n",
      "Actual: [0. 1.] Predicted: [0. 1.]\n",
      "Actual: [0. 1.] Predicted: [0. 1.]\n",
      "Actual: [0. 1.] Predicted: [1. 0.]\n",
      "Actual: [0. 1.] Predicted: [0. 1.]\n",
      "Actual: [0. 1.] Predicted: [0. 1.]\n",
      "Actual: [0. 1.] Predicted: [0. 1.]\n",
      "Actual: [1. 0.] Predicted: [1. 0.]\n",
      "Actual: [1. 0.] Predicted: [1. 0.]\n",
      "Actual: [1. 0.] Predicted: [1. 0.]\n",
      "Actual: [1. 0.] Predicted: [1. 0.]\n",
      "Actual: [1. 0.] Predicted: [1. 0.]\n",
      "Actual: [1. 0.] Predicted: [1. 0.]\n",
      "Actual: [1. 0.] Predicted: [1. 0.]\n",
      "Actual: [0. 1.] Predicted: [0. 1.]\n",
      "Actual: [0. 1.] Predicted: [0. 1.]\n",
      "Actual: [1. 0.] Predicted: [1. 0.]\n",
      "Actual: [0. 1.] Predicted: [1. 0.]\n",
      "Actual: [1. 0.] Predicted: [1. 0.]\n",
      "Accuracy: 0.9333333333333333\n"
     ]
    }
   ],
   "source": [
    "# Dependencies\n",
    "import tensorflow as tf\n",
    "import pandas as pd\n",
    "import numpy as np\n",
    "\n",
    "# Make results reproducible\n",
    "seed = 1234\n",
    "np.random.seed(seed)\n",
    "tf.set_random_seed(seed)\n",
    "\n",
    "# Loading the dataset\n",
    "dataset = pd.read_csv('https://archive.ics.uci.edu/ml/machine-learning-databases/iris/iris.data', header=None)\n",
    "dataset = dataset[50:150]\n",
    "dataset = pd.get_dummies(dataset, columns=[4]) # One Hot Encoding\n",
    "values = list(dataset.columns.values)\n",
    "\n",
    "y = dataset[values[-2:]]\n",
    "y = np.array(y, dtype='float32')\n",
    "X = dataset[values[2:4]]\n",
    "X = np.array(X, dtype='float32')\n",
    "\n",
    "# Shuffle Data\n",
    "indices = np.random.choice(len(X), len(X), replace=False)\n",
    "X_values = X[indices]\n",
    "y_values = y[indices]\n",
    "\n",
    "# Creating a Train and a Test Dataset\n",
    "test_size = 30\n",
    "X_test = X_values[-test_size:]\n",
    "X_train = X_values[:-test_size]\n",
    "y_test = y_values[-test_size:]\n",
    "y_train = y_values[:-test_size]\n",
    "\n",
    "# Session\n",
    "sess = tf.Session()\n",
    "\n",
    "# Interval / Epochs\n",
    "interval = 1000\n",
    "epoch = 10000\n",
    "\n",
    "# Initialize placeholders\n",
    "X_data = tf.placeholder(shape=[None, 2], dtype=tf.float32)\n",
    "y_target = tf.placeholder(shape=[None, 2], dtype=tf.float32)\n",
    "\n",
    "# Input neurons : 2\n",
    "# Hidden neurons : 2\n",
    "# Output neurons : 2\n",
    "hidden_layer_nodes = 2\n",
    "\n",
    "# Create variables for Neural Network layers\n",
    "w1 = tf.Variable(tf.random_normal(shape=[2,hidden_layer_nodes])) # Inputs -> Hidden Layer\n",
    "b1 = tf.Variable(tf.random_normal(shape=[hidden_layer_nodes]))   # First Bias\n",
    "w2 = tf.Variable(tf.random_normal(shape=[hidden_layer_nodes,2])) # Hidden layer -> Outputs\n",
    "b2 = tf.Variable(tf.random_normal(shape=[2]))   # Second Bias\n",
    "\n",
    "# Operations\n",
    "hidden_output = tf.nn.sigmoid(tf.add(tf.matmul(X_data, w1), b1))\n",
    "final_output = tf.nn.sigmoid(tf.add(tf.matmul(hidden_output, w2), b2))\n",
    "\n",
    "# Cost Function\n",
    "loss = tf.reduce_mean(tf.reduce_sum(tf.square(final_output - y_target), axis=0))\n",
    "\n",
    "# Optimizer\n",
    "optimizer = tf.train.GradientDescentOptimizer(learning_rate=0.001).minimize(loss)\n",
    "\n",
    "# Initialize variables\n",
    "init = tf.global_variables_initializer()\n",
    "sess.run(init)\n",
    "\n",
    "# Training\n",
    "print('Training the model...')\n",
    "for i in range(1, (epoch + 1)):\n",
    "    sess.run(optimizer, feed_dict={X_data: X_train, y_target: y_train})\n",
    "    if i % interval == 0:\n",
    "        print('Epoch', i, '|', 'Loss:', sess.run(loss, feed_dict={X_data: X_train, y_target: y_train}))\n",
    "\n",
    "# Prediction\n",
    "accuracy = 0\n",
    "print('\\nTesting...')\n",
    "for i in range(len(X_test)):\n",
    "    t = y_test[i]\n",
    "    y = np.rint(sess.run(final_output, feed_dict={X_data: [X_test[i]]}))[0]\n",
    "    if t[0] == y[0] and t[1] == y[1]:\n",
    "        accuracy += 1\n",
    "    print('Actual:', t, 'Predicted:', y)\n",
    "print('Accuracy:', accuracy/test_size)"
   ]
  }
 ],
 "metadata": {
  "kernelspec": {
   "display_name": "Python 3",
   "language": "python",
   "name": "python3"
  },
  "language_info": {
   "codemirror_mode": {
    "name": "ipython",
    "version": 3
   },
   "file_extension": ".py",
   "mimetype": "text/x-python",
   "name": "python",
   "nbconvert_exporter": "python",
   "pygments_lexer": "ipython3",
   "version": "3.6.4"
  }
 },
 "nbformat": 4,
 "nbformat_minor": 2
}
