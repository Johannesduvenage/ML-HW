{
 "cells": [
  {
   "cell_type": "markdown",
   "metadata": {},
   "source": [
    "# ML HW1\n",
    "### 106598018 萬俊瑋"
   ]
  },
  {
   "cell_type": "markdown",
   "metadata": {},
   "source": [
    "**1. It is known that the HIV test has only 0.1% of false positive and false negative, respectively. However, for a specific group of people, the prevalence of HIV positive rate is 0.01 %. If a person belongs to such a group and is found to be positive in the HIV test, find the probability that the person is really infected.**\n",
    "\n",
    ">| **TP 99.9%** | **FP 0.1%**  |\n",
    ">| ------------ | ------------ |\n",
    ">| **FN 0.1%**  | **TN 99.9%** |\n",
    ">\n",
    ">For the sicker in group =0.01%  \n",
    ">0.01%*99.9%/(0.01%*99.9%+99.99%*0.1%)=0.090834……≒9.1%"
   ]
  },
  {
   "cell_type": "markdown",
   "metadata": {},
   "source": [
    "**2. UC Irvine has a large repository for various kinds of data. In this problem, you are asked to use the iris dataset (https://archive.ics.uci.edu/ml/datasets/Iris) to perform the experiments. Implement the k-NN classifier for the classification task. To begin one experiment, randomly draw 70 % of the instances for training and the rest for testing. Repeat the drawing and the k-NN classification 10 times and compute the average accuracy. Then, plot the curve of k versus accuracy for k = 1, 3, ..., 15. For simplicity, use the Euclidean distance in your computation.**\n",
    "\n",
    "> It seems that the best “k” is 13."
   ]
  },
  {
   "cell_type": "code",
   "execution_count": null,
   "metadata": {},
   "outputs": [],
   "source": [
    "%matplotlib inline\n",
    "\n",
    "from sklearn import datasets\n",
    "from sklearn.model_selection import train_test_split\n",
    "from sklearn.neighbors import KNeighborsClassifier\n",
    "from sklearn import metrics\n",
    "import random\n",
    "\n",
    "# global\n",
    "MAX_K = 15\n",
    "seed = []\n",
    "for i in range(10):\n",
    "    seed.append(random.randint(0,99))\n",
    "\n",
    "# Load dataset\n",
    "iris = datasets.load_iris()\n",
    "\n",
    "# create model\n",
    "result = []\n",
    "for k in range(1, MAX_K+1, 2):\n",
    "    acc = 0\n",
    "    for i in range(10):\n",
    "        # spilt data randomly\n",
    "        X_train, X_test, y_train, y_test = train_test_split(iris.data, iris.target, test_size = 0.3,\n",
    "                                                            random_state=seed[i])\n",
    "        knn = KNeighborsClassifier(n_neighbors=k)\n",
    "        knn.fit(X_train, y_train)\n",
    "        y_pred = knn.predict(X_test)\n",
    "        acc+=metrics.accuracy_score(y_test, y_pred)\n",
    "    result.append(acc/10)\n",
    "\n",
    "# print th result\n",
    "import matplotlib.pyplot as plt\n",
    "plt.plot(range(1, MAX_K+1, 2), result, 'ob--', label = 'Test set')\n",
    "plt.legend()\n",
    "plt.xlabel('k') \n",
    "plt.ylabel('accuracy')\n",
    "plt.show()"
   ]
  },
  {
   "cell_type": "markdown",
   "metadata": {},
   "source": [
    "**3. Following problem 2, if you do not have the test dataset (i.e., you have only the 70 % of dataset), how do you determine the optimal value of k? Use your own approach to find such a value and compare the results you have in problem 2. Comment on your results.**\n",
    "\n",
    "> I use the 70% subset-data of origin data to spilt into 70% training set and 30% test set again, and run the KNN >again to compare the result.The best “ks” in origin data are 9, 11 and 15, and in subset are 3 and 11. I run the >same code in many times, I found the results are different in every time."
   ]
  },
  {
   "cell_type": "code",
   "execution_count": 2,
   "metadata": {},
   "outputs": [
    {
     "data": {
      "image/png": "[encoded data removed]",
      "text/plain": [
       "<matplotlib.figure.Figure at 0x7f8f57a78dd8>"
      ]
     },
     "metadata": {},
     "output_type": "display_data"
    }
   ],
   "source": [
    "# perameters\n",
    "MAX_K = 15\n",
    "seed = []\n",
    "for i in range(10):\n",
    "    seed.append(random.randint(0,99))\n",
    "\n",
    "# Load dataset\n",
    "iris = datasets.load_iris()\n",
    "\n",
    "# create model\n",
    "result, result_subset = [], []\n",
    "for k in range(1, MAX_K+1, 2):\n",
    "    acc, acc_subset = 0, 0\n",
    "    for i in range(10):\n",
    "        # spilt data randomly\n",
    "        X_train, X_test, y_train, y_test = train_test_split(iris.data, iris.target, test_size = 0.3,\n",
    "                                                            random_state=seed[i])\n",
    "        knn = KNeighborsClassifier(n_neighbors=k)\n",
    "        knn.fit(X_train, y_train)\n",
    "        y_pred = knn.predict(X_test)\n",
    "        acc+=metrics.accuracy_score(y_test, y_pred)\n",
    "        # spilt subset data randomly\n",
    "        X_sub_train, X_sub_test, y_sub_train, y_sub_test = train_test_split(X_train, y_train, test_size = 0.3,\n",
    "                                                                            random_state=seed[i])\n",
    "        knn.fit(X_sub_train, y_sub_train)\n",
    "        y_sub_pred = knn.predict(X_sub_test)\n",
    "        acc_subset+=metrics.accuracy_score(y_sub_test, y_sub_pred)\n",
    "    result.append(acc/10)\n",
    "    result_subset.append(acc_subset/10)\n",
    "\n",
    "# print th result\n",
    "import matplotlib.pyplot as plt\n",
    "plt.plot(range(1, MAX_K+1, 2), result, 'ob--', label = 'Test set')\n",
    "plt.plot(range(1, MAX_K+1, 2), result_subset, 'or--', label = 'Sub test set')\n",
    "plt.legend()\n",
    "plt.xlabel('k') \n",
    "plt.ylabel('accuracy')\n",
    "plt.show()"
   ]
  },
  {
   "cell_type": "markdown",
   "metadata": {},
   "source": [
    "**4. In the class, we covered the naive Bayes classifier, but only with discrete-type features. Consult any paper to learn how to extend this approach to continuous-type features. Explain your finding as an algorithm.**\n",
    "\n",
    "> [Estimating Continuous Distributions in Bayesian Classifiers](https://arxiv.org/ftp/arxiv/papers/1302/1302.4964.pdf)  \n",
    ">We assume the feather of iris is normal distirbution, so we can do the naïve bayes classify via:  \n",
    ">Because we assume iris data is normal distirbution, we can get:  \n",
    ">And, we can compute each probility of x in different class.\n",
    "\n",
    "**5. Repeat problem 2 with your algorithm in problem 4. Compare the accuracy of naive Bayes classifier with the k-NN.**\n",
    "\n",
    "> I found that most of time knn is beter than Gaussian Naive Bayes when k is big enough."
   ]
  },
  {
   "cell_type": "code",
   "execution_count": 3,
   "metadata": {},
   "outputs": [
    {
     "data": {
      "image/png": "[encoded data removed]",
      "text/plain": [
       "<matplotlib.figure.Figure at 0x7f8f4f449f28>"
      ]
     },
     "metadata": {},
     "output_type": "display_data"
    }
   ],
   "source": [
    "from sklearn.naive_bayes import GaussianNB\n",
    "\n",
    "# global\n",
    "MAX_K = 15\n",
    "seed = []\n",
    "for i in range(10):\n",
    "    seed.append(random.randint(0,99))\n",
    "\n",
    "# Load dataset\n",
    "iris = datasets.load_iris()\n",
    "\n",
    "# create Gaussian Naive Bayes model\n",
    "acc = 0\n",
    "for i in range(10):\n",
    "    # spilt data randomly\n",
    "    X_train, X_test, y_train, y_test = train_test_split(iris.data, iris.target, test_size = 0.3,\n",
    "                                                        random_state=seed[i])\n",
    "    gnb = GaussianNB()\n",
    "    gnb.fit(X_train, y_train)\n",
    "    y_pred = gnb.predict(X_test)\n",
    "    acc+=metrics.accuracy_score(y_test, y_pred)\n",
    "result_gnb = acc/10\n",
    "\n",
    "# create model\n",
    "result_knn = []\n",
    "for k in range(1, MAX_K+1, 2):\n",
    "    acc = 0\n",
    "    for i in range(10):\n",
    "        # spilt data randomly\n",
    "        X_train, X_test, y_train, y_test = train_test_split(iris.data, iris.target, test_size = 0.3,\n",
    "                                                            random_state=seed[i])\n",
    "        knn = KNeighborsClassifier(n_neighbors=k)\n",
    "        knn.fit(X_train, y_train)\n",
    "        y_pred = knn.predict(X_test)\n",
    "        acc+=metrics.accuracy_score(y_test, y_pred)\n",
    "    result_knn.append(acc/10)\n",
    "\n",
    "# print th result\n",
    "import matplotlib.pyplot as plt\n",
    "plt.plot(range(1, MAX_K+1, 2), [result_gnb for i in range(1, MAX_K+1, 2)], 'b--', label = 'Gaussian Naive Bayes')\n",
    "plt.plot(range(1, MAX_K+1, 2), result_knn, 'or--', label = 'k-nearest neighbors')\n",
    "plt.legend()\n",
    "plt.xlabel('k') \n",
    "plt.ylabel('accuracy')\n",
    "plt.show()"
   ]
  }
 ],
 "metadata": {
  "kernelspec": {
   "display_name": "Python 3",
   "language": "python",
   "name": "python3"
  },
  "language_info": {
   "codemirror_mode": {
    "name": "ipython",
    "version": 3
   },
   "file_extension": ".py",
   "mimetype": "text/x-python",
   "name": "python",
   "nbconvert_exporter": "python",
   "pygments_lexer": "ipython3",
   "version": "3.6.4"
  }
 },
 "nbformat": 4,
 "nbformat_minor": 2
}
