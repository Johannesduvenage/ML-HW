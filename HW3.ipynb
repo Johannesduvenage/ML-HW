{
 "cells": [
  {
   "cell_type": "markdown",
   "metadata": {},
   "source": [
    "# ML HW3\n",
    "### 106598018 萬俊瑋"
   ]
  },
  {
   "cell_type": "markdown",
   "metadata": {},
   "source": [
    "**1. In this problem, you are asked to use ICA on Iris dataset for dimensionality reduction before classification. To simplify the problem, you do not need to implement the ICA program. Instead, find an existing one and learn how to use it. As you may not be able to store internal parameters of the ICA, input all of the 150 samples to find the corresponding independent components as the preprocessing step. You may assume that there are four sources and four\n",
    "observations. On the obtained four components, pick the two components with largest energy as new features. Randomly pick 70 % of the samples (represented by new features) as training set and the rest as test set. Implement the 3-NN classifier to compute the accuracy. Repeat the drawing and the 3-NN classification 10 times and compute the average accuracy and accuracy variance. For simplicity, use the Euclidean distance in the k-NN computation.**"
   ]
  },
  {
   "cell_type": "markdown",
   "metadata": {},
   "source": [
    "load dataset"
   ]
  },
  {
   "cell_type": "code",
   "execution_count": 1,
   "metadata": {},
   "outputs": [],
   "source": [
    "%matplotlib inline\n",
    "\n",
    "if __name__=='__main__':\n",
    "    import pandas as pd\n",
    "    iris = pd.read_csv('https://archive.ics.uci.edu/ml/machine-learning-databases/iris/iris.data', header=None)\n",
    "    X, y = iris.iloc[:, :4].values, iris[4].values"
   ]
  },
  {
   "cell_type": "markdown",
   "metadata": {},
   "source": [
    "ICA dimensionality reduction on Iris dataset"
   ]
  },
  {
   "cell_type": "code",
   "execution_count": 2,
   "metadata": {},
   "outputs": [
    {
     "name": "stdout",
     "output_type": "stream",
     "text": [
      "importing Jupyter notebook from HW2.ipynb\n"
     ]
    },
    {
     "data": {
      "image/png": "[encoded data removed]",
      "text/plain": [
       "<matplotlib.figure.Figure at 0x7f2b42ed1668>"
      ]
     },
     "metadata": {},
     "output_type": "display_data"
    }
   ],
   "source": [
    "if __name__=='__main__':\n",
    "    from sklearn.decomposition import FastICA\n",
    "    ica=FastICA(n_components=4)\n",
    "    X_ica = ica.fit_transform(X)\n",
    "\n",
    "    import numpy as np\n",
    "    energy = [np.sum(X_ica[:, i]**2) for i in range(4)]\n",
    "    idx = np.argsort(energy)[::-1]\n",
    "    X_ica_top2_energy = list()\n",
    "    for x in X_ica:\n",
    "        X_ica_top2_energy.append([x[idx[0]], x[idx[1]]])\n",
    "    X_ica_top2_energy = np.array(X_ica_top2_energy)\n",
    "\n",
    "    import import_ipynb\n",
    "    from HW2 import plotData\n",
    "    # print data info after ICA\n",
    "    plotData(X_ica_top2_energy, 'Top 1 energy', 'Top 2 energy')"
   ]
  },
  {
   "cell_type": "markdown",
   "metadata": {},
   "source": [
    "3-NN 10 Times"
   ]
  },
  {
   "cell_type": "code",
   "execution_count": 3,
   "metadata": {},
   "outputs": [
    {
     "name": "stdout",
     "output_type": "stream",
     "text": [
      "3-NN result\n"
     ]
    },
    {
     "data": {
      "image/png": "[encoded data removed]",
      "text/plain": [
       "<matplotlib.figure.Figure at 0x7f2b387b8208>"
      ]
     },
     "metadata": {},
     "output_type": "display_data"
    },
    {
     "name": "stdout",
     "output_type": "stream",
     "text": [
      "average acc:0.9644444444444444\n",
      "varance of acc:0.0006123456790123452\n"
     ]
    }
   ],
   "source": [
    "if __name__=='__main__':\n",
    "    from sklearn.model_selection import train_test_split\n",
    "    from sklearn.neighbors import KNeighborsClassifier\n",
    "    from sklearn import metrics\n",
    "    import matplotlib.pyplot as plt\n",
    "    import random\n",
    "\n",
    "    # create model\n",
    "    acc = list()\n",
    "    for i in range(10):\n",
    "        # spilt data randomly\n",
    "        X_train, X_test, y_train, y_test = train_test_split(X_ica_top2_energy, y, test_size = 0.3,\\\n",
    "                                                            random_state=random.randint(0, 100))\n",
    "        # create model\n",
    "        knn = KNeighborsClassifier(n_neighbors=3)\n",
    "        knn.fit(X_train, y_train)\n",
    "        # predict data\n",
    "        y_pred = knn.predict(X_test)\n",
    "        acc.append(metrics.accuracy_score(y_test, y_pred))\n",
    "\n",
    "    # plot & print th result\n",
    "    print('3-NN result')\n",
    "    plt.plot(range(1, 11), acc, 'ob--', label = 'Accuracy')\n",
    "    plt.legend()\n",
    "    plt.xlabel('epoch') \n",
    "    plt.ylabel('accuracy')\n",
    "    plt.show()\n",
    "    print('average acc:' + str(np.mean(acc)))\n",
    "    print('varance of acc:' + str(np.var(acc)))"
   ]
  },
  {
   "cell_type": "markdown",
   "metadata": {},
   "source": [
    "**2. We learned the k-means for clustering in the lecture. Implement the algorithm with the Iris dataset. In this problem, we know k = 3. Use the first sample in each class as the initial cluster center to do the clustering. Remember that the cluster centers are points in 4-dimensional space. To have a unique answer, use the same\n",
    "sequence given in the dataset to feed into your program. That is, do not shuffler the dataset. Once your program converges, (a) print out the coordinates of the cluster centers, (b) and the number of members (sample points) in each cluster. (c) According to the labels of data samples, how many of them are placed in wrong\n",
    "clusters? Use a majority vote to determine the label of each cluster.**"
   ]
  },
  {
   "cell_type": "code",
   "execution_count": 4,
   "metadata": {},
   "outputs": [
    {
     "name": "stdout",
     "output_type": "stream",
     "text": [
      "epochs: 4\n",
      "\n",
      "Cluster centers\n",
      "Class0: [5.006 3.418 1.464 0.244]\n",
      "Class1: [5.9016129  2.7483871  4.39354839 1.43387097]\n",
      "Class2: [6.85       3.07368421 5.74210526 2.07105263]\n",
      "\n",
      "Number of cluster-members\n",
      "Class0: 50\n",
      "Class1: 62\n",
      "Class2: 38\n",
      "\n",
      "{0: 'Iris-setosa', 1: 'Iris-versicolor', 2: 'Iris-virginica'}\n",
      "\n",
      "Samples in wrong cluster\n",
      "Iris-setosa: 0\n",
      "[]\n",
      "Iris-versicolor: 2\n",
      "['Id:52 in:Iris-virginica', 'Id:77 in:Iris-virginica']\n",
      "Iris-virginica: 14\n",
      "['Id:101 in:Iris-versicolor', 'Id:106 in:Iris-versicolor', 'Id:113 in:Iris-versicolor', 'Id:114 in:Iris-versicolor', 'Id:119 in:Iris-versicolor', 'Id:121 in:Iris-versicolor', 'Id:123 in:Iris-versicolor', 'Id:126 in:Iris-versicolor', 'Id:127 in:Iris-versicolor', 'Id:133 in:Iris-versicolor', 'Id:138 in:Iris-versicolor', 'Id:142 in:Iris-versicolor', 'Id:146 in:Iris-versicolor', 'Id:149 in:Iris-versicolor']\n"
     ]
    },
    {
     "data": {
      "image/png": "[encoded data removed]",
      "text/plain": [
       "<matplotlib.figure.Figure at 0x7f2b387214a8>"
      ]
     },
     "metadata": {},
     "output_type": "display_data"
    }
   ],
   "source": [
    "if __name__=='__main__':\n",
    "    \n",
    "    # Initial cluster center\n",
    "    cluster_centers = [X[0], X[50], X[100]]\n",
    "\n",
    "    # k-means\n",
    "    inner_distance, epoch = [0]*3, 0\n",
    "    while True:\n",
    "        result = list()\n",
    "        epoch+=1\n",
    "        # classify by min distance\n",
    "        for i, x in enumerate(X):\n",
    "            distance = [np.sum((x-cluster_center)**2) for cluster_center in cluster_centers]\n",
    "            result.append(distance.index(np.min(distance)))\n",
    "        \n",
    "        # update cluster center\n",
    "        for i in range(len(cluster_centers)):\n",
    "            cluster_centers[i] = np.mean([x for j, x in enumerate(X) if result[j]==i], axis=0)\n",
    "\n",
    "        # Stop creatia\n",
    "        _pre_inner_distance = list(inner_distance)\n",
    "        for i, cluster_center in enumerate(cluster_centers):\n",
    "            inner_distance[i] = np.sum([np.square(x-cluster_center) for j, x in enumerate(X) if result[j]==i])\n",
    "        if(np.abs(np.sum(_pre_inner_distance)-np.sum(inner_distance))<0.1):\n",
    "            break\n",
    "    \n",
    "    '''Show result'''\n",
    "    # print epochs\n",
    "    print('epochs: ' + str(epoch))\n",
    "    print()\n",
    "    \n",
    "    # print cluster center\n",
    "    print('Cluster centers')\n",
    "    for i, cluster_center in enumerate(cluster_centers):\n",
    "        print('Class' + str(i) + ': ' + str(cluster_center))\n",
    "    print()\n",
    "\n",
    "    # print cluster count\n",
    "    print('Number of cluster-members')\n",
    "    for i, cluster_center in enumerate(cluster_centers):\n",
    "        print('Class' + str(i) + ': ' + str(len([x for j, x in enumerate(X) if result[j]==i])))\n",
    "    print()\n",
    "\n",
    "    # voting class name\n",
    "    classDict = {}\n",
    "    for i, cluster_center in enumerate(cluster_centers):\n",
    "        Cluster = [y[j] for j, x in enumerate(X) if result[j]==i]\n",
    "        count = sorted([[Cluster.count(c), c] for c in set(Cluster)], reverse=True)\n",
    "        classDict[i] = count[0][1]\n",
    "    print(classDict)\n",
    "    print()\n",
    "    \n",
    "    # print classify fail\n",
    "    print('Samples in wrong cluster')\n",
    "    for i in range(3):\n",
    "        classify_fail = len([1 for j in range(i*50, i*50+50) if y[j]!=classDict[result[j]]])\n",
    "        print(str(y[i*50]) + ': ' + str(classify_fail))\n",
    "        print([('Id:' + str(j) + ' in:' + str(classDict[result[j]])) for j in range(i*50, i*50+50) if y[j]!=classDict[result[j]]])\n",
    "    \n",
    "    # plot data\n",
    "    style = ['or', 'ob', 'og']\n",
    "    for i, cluster_center in enumerate(cluster_centers):\n",
    "        X0_plot = [x[0] for j, x in enumerate(X) if result[j]==i]\n",
    "        X1_plot = [x[1] for j, x in enumerate(X) if result[j]==i]\n",
    "        plt.plot(X0_plot, X1_plot, style[i], label = classDict[i])\n",
    "    plt.legend()\n",
    "    plt.xlabel('x0') \n",
    "    plt.ylabel('x1')\n",
    "    plt.show()"
   ]
  },
  {
   "cell_type": "markdown",
   "metadata": {},
   "source": [
    "**3. We know that the GMM can be viewed as a “soft” clustering method. To simplify the difficulty level, we will implement the univariate GMM. Use the third feature (petal length) as the input to your GMM. The settings are three\n",
    "Gaussians with the following initial values: μ1 = 1, μ2 = 4, μ3 = 6, σ1^2 = σ2^2 = σ3^2 = 1, α1 = 0.5, α2 = α3 = 0.25. To have a unique answer, iterate the EM steps 3,000 times (epochs). (a) Print out the GMM parameters. (b) If you want to convert the “soft” clustering results to “hard” clustering ones, how do you do it? (c) Use your method in (b) to find the number of members in each cluster.**"
   ]
  },
  {
   "cell_type": "markdown",
   "metadata": {},
   "source": [
    "**4. We used the play/no play example in the lecture. You are required to write a program to compute the C 4.5 decision tree with the “play/no play” data given in the PPT file. Plot the computed decision tree. In this problem, you need to convert continuous variables of temperature and humidity to discrete values according to the rules given in the PPT file.**"
   ]
  },
  {
   "cell_type": "markdown",
   "metadata": {},
   "source": [
    "**5. Based on your C4.5 program on problem 4, revise it to accept continuous values of temperature and humidity. Inside your program, there must be a routine to convert each continuous number into three values, namely, low, mid, and high, based on maximizing gains. (a) Use a pseudo code to explain how to perform the computation. (b) Run your program to print out the conversion rules (such as temperature greater than xx is hot) and (c) draw the decision tree.**"
   ]
  }
 ],
 "metadata": {
  "kernelspec": {
   "display_name": "Python 3",
   "language": "python",
   "name": "python3"
  },
  "language_info": {
   "codemirror_mode": {
    "name": "ipython",
    "version": 3
   },
   "file_extension": ".py",
   "mimetype": "text/x-python",
   "name": "python",
   "nbconvert_exporter": "python",
   "pygments_lexer": "ipython3",
   "version": "3.6.4"
  }
 },
 "nbformat": 4,
 "nbformat_minor": 2
}
