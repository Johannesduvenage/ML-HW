{
 "cells": [
  {
   "cell_type": "markdown",
   "metadata": {},
   "source": [
    "# ML HW2\n",
    "### 106598018 萬俊瑋\n",
    "In the following problems, you can use existing tools to find eigenvalues and eigenvectors of matrices. For pedagogical reasons, you need to complete other parts of the programs by yourself, but not calling existing libraries."
   ]
  },
  {
   "cell_type": "markdown",
   "metadata": {},
   "source": [
    "**1. In the lecture, we mentioned that the term λ ∑ wi2i is a regularization term.**  \n",
    "i. Use your own words to explain why it is so.  \n",
    "ii. If we implement two regression programs, one using λ∑iwi^2 and the other one using λ∑iwi^10, which one do you expect has lower bias? How about variance? Why? Assuming that we use the same λ for both programs.  \n",
    "> i. 假設我迴歸出來的方程式次數很高，那λ∑iwi^n這一項就會變得很大，從而讓我的loss function 數值變高，我們迴歸的目的就是找出一條loss function數值低的方程式，因此增加這一項可以有效的抑制迴歸出的方程式次數過高；當w的次數比較高時，抑制的效果會更明顯。  \n",
    "> ii. w項為2次時有比較低的 bias，如下圖，w次數比較小時，容易得到一個高次的迴歸線，他對於數據擬合的非常好，loss function數值趨近於0，但是對於未知數據預測時，他的預測通常不是那麼準。\n",
    "<img src=\"https://github.com/wei840222/ML-HW/blob/master/images/01.png\" width=\"50\" height=\"50\" />\n",
    "> w項為10次時有比較低的 variance，如下圖，w次數比較大時，容易得到一個低次的迴歸線，他對於數據擬合的不是非常好，可能某幾個點會有error值，但是他得出的迴歸線通常代表已知及未知數具分布情形，對於未知數據預測時結果較好。\n",
    "> ![](https://github.com/wei840222/ML-HW/blob/master/images/02.png)\n"
   ]
  },
  {
   "cell_type": "markdown",
   "metadata": {},
   "source": [
    "**2. We mentioned that the covariance matrix may be ill-conditioned. Find the (sample) covariance matrices for the three classes of the Iris dataset and compute the condition numbers for the covariance matrices. For simplicity, use the following as the condition number: κ(A) = | λ max/λ min |, where λ max and λ min are the largest and smallest eigenvalues of matrix A.**"
   ]
  },
  {
   "cell_type": "markdown",
   "metadata": {},
   "source": [
    "Load dataset"
   ]
  },
  {
   "cell_type": "code",
   "execution_count": 1,
   "metadata": {},
   "outputs": [],
   "source": [
    "import pandas as pd\n",
    "\n",
    "iris = pd.read_csv('https://archive.ics.uci.edu/ml/machine-learning-databases/iris/iris.data', header=None)\n",
    "X, y = iris.iloc[:, :4].values, iris[4].values"
   ]
  },
  {
   "cell_type": "markdown",
   "metadata": {},
   "source": [
    "Covariance Matrix & Condition Number"
   ]
  },
  {
   "cell_type": "code",
   "execution_count": 2,
   "metadata": {},
   "outputs": [
    {
     "name": "stdout",
     "output_type": "stream",
     "text": [
      "Iris-setosa:\n",
      "Covariance Matrix:\n",
      "[[0.121764 0.098292 0.015816 0.010336]\n",
      " [0.098292 0.142276 0.011448 0.011208]\n",
      " [0.015816 0.011448 0.029504 0.005584]\n",
      " [0.010336 0.011208 0.005584 0.011264]]\n",
      "Condition Number:\n",
      "25.373917566328824\n",
      "\n",
      "Iris-versicolor:\n",
      "Covariance Matrix:\n",
      "[[0.261104 0.08348  0.17924  0.054664]\n",
      " [0.08348  0.0965   0.081    0.04038 ]\n",
      " [0.17924  0.081    0.2164   0.07164 ]\n",
      " [0.054664 0.04038  0.07164  0.038324]]\n",
      "Condition Number:\n",
      "49.832049727403785\n",
      "\n",
      "Iris-virginica:\n",
      "Covariance Matrix:\n",
      "[[0.396256 0.091888 0.297224 0.048112]\n",
      " [0.091888 0.101924 0.069952 0.046676]\n",
      " [0.297224 0.069952 0.298496 0.047848]\n",
      " [0.048112 0.046676 0.047848 0.073924]]\n",
      "Condition Number:\n",
      "20.290018691247386\n",
      "\n"
     ]
    }
   ],
   "source": [
    "import numpy as np\n",
    "\n",
    "def covarianceMatrix_1D(X):\n",
    "    X = np.mat(X)\n",
    "    dim = X.shape[1]\n",
    "    x_E = np.mean(X, axis=0)\n",
    "    cov_mat = np.zeros([dim, dim])\n",
    "    for x in X:\n",
    "        var_vec = x-x_E\n",
    "        cov_mat+=np.transpose(var_vec)*var_vec\n",
    "    cov_mat/=len(X)\n",
    "    return cov_mat\n",
    "\n",
    "def conditionNumber(cov_mat):\n",
    "    eig = np.linalg.eigvals(cov_mat)\n",
    "    con_num = np.abs(np.max(eig)/np.min(eig))\n",
    "    return con_num\n",
    "\n",
    "def _printDataInfo_iris(X):\n",
    "    for i in range(3):\n",
    "        cov_mat = covarianceMatrix_1D(X[i*50:i*50+50])\n",
    "        con_num = conditionNumber(cov_mat)\n",
    "        print(y[i*50] + ':')\n",
    "        print('Covariance Matrix:')\n",
    "        print(cov_mat)\n",
    "        print('Condition Number:')\n",
    "        print(con_num)\n",
    "        print()\n",
    "\n",
    "# print data info after PCA\n",
    "_printDataInfo_iris(X)"
   ]
  },
  {
   "cell_type": "markdown",
   "metadata": {},
   "source": [
    "**3. In this problem, you are asked to use the Iris dataset to perform PCA dimensionality reduction before classification. Randomly draw 35 samples in each class to find the vectors w (j) for the largest two principal components. Recall that PCA is unsupervised; therefore, you need to use 35×3 = 105 data points to find the parameters of the PCA. Implement the 3-NN classifier to test the rest 15 samples in each class and record the accuracy. Repeat the drawing and the k-NN classification 10 times and compute the average accuracy and variance. For simplicity, use the Euclidean distance in the k-NN computation.**"
   ]
  },
  {
   "cell_type": "markdown",
   "metadata": {},
   "source": [
    "PCA dimensionality reduction & k-NN"
   ]
  },
  {
   "cell_type": "code",
   "execution_count": 3,
   "metadata": {},
   "outputs": [
    {
     "data": {
      "image/png": "[encoded data removed]",
      "text/plain": [
       "<matplotlib.figure.Figure at 0x7f0d24fb4b00>"
      ]
     },
     "metadata": {},
     "output_type": "display_data"
    },
    {
     "name": "stdout",
     "output_type": "stream",
     "text": [
      "Iris-setosa:\n",
      "Covariance Matrix:\n",
      "[[ 0.04777048 -0.05590782]\n",
      " [-0.05590782  0.21472356]]\n",
      "Condition Number:\n",
      "7.52861622845975\n",
      "\n",
      "Iris-versicolor:\n",
      "Covariance Matrix:\n",
      "[[ 0.34899363 -0.19443157]\n",
      " [-0.19443157  0.18078976]]\n",
      "Condition Number:\n",
      "8.986431653681425\n",
      "\n",
      "Iris-virginica:\n",
      "Covariance Matrix:\n",
      "[[ 0.48896484 -0.26977165]\n",
      " [-0.26977165  0.22766092]]\n",
      "Condition Number:\n",
      "11.235679177140494\n",
      "\n",
      "3-NN result\n",
      "average acc:0.9755555555555556\n",
      "varance of acc:0.00034074074074074\n"
     ]
    }
   ],
   "source": [
    "%matplotlib inline\n",
    "import matplotlib.pyplot as plt\n",
    "import random\n",
    "from sklearn.model_selection import train_test_split\n",
    "from sklearn.neighbors import KNeighborsClassifier\n",
    "from sklearn import metrics\n",
    "\n",
    "def pca_fit_1D(X, n):\n",
    "    cov_mat = covarianceMatrix_1D(X)\n",
    "    eig_vals, eig_vecs = np.linalg.eigh(cov_mat)\n",
    "    eig_pairs = [(np.abs(eig_vals[i]), eig_vecs[:, i]) for i in range(len(eig_vals))]\n",
    "    eig_pairs.sort(reverse = True)\n",
    "    W = np.mat([pair[1] for pair in eig_pairs[:n]])\n",
    "    return np.transpose(W)\n",
    "\n",
    "def transform_1D(X, W):\n",
    "    return np.dot(X, W)\n",
    "\n",
    "def _plotData_iris_2D(X):\n",
    "    plt.plot(X[:, 0], X[:, 1], 'ob')\n",
    "    plt.xlabel('Top 1 eig_val') \n",
    "    plt.ylabel('Top 2 eig_val')\n",
    "    plt.show()\n",
    "\n",
    "# print data info after PCA\n",
    "X_pca = transform_1D(X, pca_fit_1D(X, 2))\n",
    "_plotData_iris_2D(X_pca)\n",
    "_printDataInfo_iris(X_pca)\n",
    "\n",
    "acc = list()\n",
    "for i in range(10):\n",
    "    # randomly split data for 3 class of 0.3 test size\n",
    "    seed = random.randint(0,100)\n",
    "    X_train, X_test, y_train, y_test = [], [], [], []\n",
    "    for j in range(3):\n",
    "        X_train_sub, X_test_sub, y_train_sub, y_test_sub = \\\n",
    "        train_test_split(X[j*50:j*50+50], y[j*50:j*50+50], test_size = 0.3, random_state=random.randint(0,100))\n",
    "        X_train.extend(X_train_sub)\n",
    "        X_test.extend(X_test_sub)\n",
    "        y_train.extend(y_train_sub)\n",
    "        y_test.extend(y_test_sub)\n",
    "\n",
    "    # PCA transform\n",
    "    W = pca_fit_1D(X_train, 2)\n",
    "    X_train_pca = transform_1D(X_train, W)\n",
    "    X_test_pca = transform_1D(X_test, W)\n",
    "\n",
    "    # 3-NN\n",
    "    knn = KNeighborsClassifier(n_neighbors=3)\n",
    "    knn.fit(X_train_pca, y_train)\n",
    "    y_pred = knn.predict(X_test_pca)\n",
    "    acc.append(metrics.accuracy_score(y_test, y_pred))\n",
    "    \n",
    "print('3-NN result')\n",
    "print('average acc:' + str(np.mean(acc)))\n",
    "print('varance of acc:' + str(np.var(acc)))"
   ]
  },
  {
   "cell_type": "markdown",
   "metadata": {},
   "source": [
    "**4. Following the general steps of problem 2, but use the FA approach for dimensionality reduction. For simplicity, you may assume Y = 0 and use the LS solutions.**"
   ]
  },
  {
   "cell_type": "markdown",
   "metadata": {},
   "source": [
    "FA dimensionality reduction & Covariance Matrix & Condition Number"
   ]
  },
  {
   "cell_type": "code",
   "execution_count": 4,
   "metadata": {},
   "outputs": [
    {
     "data": {
      "image/png": "[encoded data removed]",
      "text/plain": [
       "<matplotlib.figure.Figure at 0x7f0d3405ab70>"
      ]
     },
     "metadata": {},
     "output_type": "display_data"
    },
    {
     "name": "stdout",
     "output_type": "stream",
     "text": [
      "Iris-setosa:\n",
      "Covariance Matrix:\n",
      "[[ 0.00976233 -0.01880067]\n",
      " [-0.01880067  0.65293936]]\n",
      "Condition Number:\n",
      "70.92930008580237\n",
      "\n",
      "Iris-versicolor:\n",
      "Covariance Matrix:\n",
      "[[ 0.07409031 -0.14188028]\n",
      " [-0.14188028  0.79397853]]\n",
      "Condition Number:\n",
      "17.415953126431678\n",
      "\n",
      "Iris-virginica:\n",
      "Covariance Matrix:\n",
      "[[ 0.10367777 -0.25315414]\n",
      " [-0.25315414  1.07946917]]\n",
      "Condition Number:\n",
      "27.23023313623995\n",
      "\n"
     ]
    }
   ],
   "source": [
    "from sklearn.decomposition import FactorAnalysis\n",
    "fa=FactorAnalysis(n_components=2)\n",
    "X_fa = fa.fit_transform(X)\n",
    "\n",
    "# print data info after FA\n",
    "_plotData_iris_2D(X_fa)\n",
    "_printDataInfo_iris(X_fa)"
   ]
  },
  {
   "cell_type": "markdown",
   "metadata": {},
   "source": [
    "**5. Repeat problem 2 by using LDA as the reduction method. Remember to compute the parameters for each class in order to use LDA.**"
   ]
  },
  {
   "cell_type": "markdown",
   "metadata": {},
   "source": [
    "LDA dimensionality reduction & Covariance Matrix & Condition Number"
   ]
  },
  {
   "cell_type": "code",
   "execution_count": 5,
   "metadata": {},
   "outputs": [
    {
     "data": {
      "image/png": "[encoded data removed]",
      "text/plain": [
       "<matplotlib.figure.Figure at 0x7f0d42183550>"
      ]
     },
     "metadata": {},
     "output_type": "display_data"
    },
    {
     "name": "stdout",
     "output_type": "stream",
     "text": [
      "Iris-setosa:\n",
      "Covariance Matrix:\n",
      "[[0.03431717 0.02283724]\n",
      " [0.02283724 0.04087902]]\n",
      "Condition Number:\n",
      "4.1765262101506515\n",
      "\n",
      "Iris-versicolor:\n",
      "Covariance Matrix:\n",
      "[[0.26993309 0.16133435]\n",
      " [0.16133435 0.1246852 ]]\n",
      "Condition Number:\n",
      "18.36056364090784\n",
      "\n",
      "Iris-virginica:\n",
      "Covariance Matrix:\n",
      "[[0.35574746 0.2468533 ]\n",
      " [0.2468533  0.26328048]]\n",
      "Condition Number:\n",
      "9.605527986270816\n",
      "\n"
     ]
    }
   ],
   "source": [
    "def lda_fit_1D(X, y, n):\n",
    "    X = np.mat(X)\n",
    "    dim = X.shape[1]\n",
    "    mean_vecs = list()\n",
    "    for label in set(y):\n",
    "        mean_vecs.append(np.mean(X[y==label], axis=0))\n",
    "    X_mean = np.mean(X, axis=0)\n",
    "    S_w = np.zeros([dim, dim])\n",
    "    S_b = np.zeros([dim, dim])\n",
    "    for label, mean_vec in zip(set(y), mean_vecs):\n",
    "        S_i = covarianceMatrix_1D(X[y==label])\n",
    "        S_w += S_i\n",
    "        S_b += len(X[y==label])*np.transpose(mean_vec-X_mean)*(mean_vec-X_mean)\n",
    "\n",
    "    eig_vals, eig_vecs = np.linalg.eigh(np.dot(np.linalg.inv(S_w), S_b))\n",
    "    eig_pairs = [(np.abs(eig_vals[i]), eig_vecs[:, i]) for i in range(len(eig_vals))]\n",
    "    eig_pairs.sort(reverse = True)\n",
    "    W = np.mat([pair[1] for pair in eig_pairs[:n]])\n",
    "    return np.transpose(W)\n",
    "    \n",
    "X_lda = transform_1D(X, lda_fit_1D(X, y, 2))\n",
    "\n",
    "# print data info after LDA\n",
    "_plotData_iris_2D(X_lda)\n",
    "_printDataInfo_iris(X_lda)"
   ]
  }
 ],
 "metadata": {
  "kernelspec": {
   "display_name": "Python 3",
   "language": "python",
   "name": "python3"
  },
  "language_info": {
   "codemirror_mode": {
    "name": "ipython",
    "version": 3
   },
   "file_extension": ".py",
   "mimetype": "text/x-python",
   "name": "python",
   "nbconvert_exporter": "python",
   "pygments_lexer": "ipython3",
   "version": "3.6.4"
  }
 },
 "nbformat": 4,
 "nbformat_minor": 2
}
